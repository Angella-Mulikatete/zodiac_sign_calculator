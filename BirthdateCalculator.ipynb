{
 "cells": [
  {
   "cell_type": "code",
   "execution_count": 1,
   "id": "228e569e",
   "metadata": {},
   "outputs": [],
   "source": [
    "import datetime\n",
    "from prettytable import PrettyTable\n",
    "from tabulate import tabulate"
   ]
  },
  {
   "cell_type": "code",
   "execution_count": 8,
   "id": "888d4a8c",
   "metadata": {},
   "outputs": [
    {
     "name": "stdout",
     "output_type": "stream",
     "text": [
      "Enter your 2-digit id: 10\n",
      "Enter your name: Angella\n",
      "Enter your dob in this format 'year-month-day': 1678-09-23\n",
      "You are 343 years old.\n",
      "Input birthday: 23\n",
      "Input month of birth (e.g. march, july etc): september\n",
      "Your zodiac sign is : libra\n",
      "Type end to stop or any character to continue.Angella Mulikatete\n",
      "Enter your 2-digit id: 09\n",
      "Enter your name: Angella Mulikatete\n",
      "Enter your dob in this format 'year-month-day': 500-04-10\n",
      "You are 1522 years old.\n",
      "Input birthday: 10\n",
      "Input month of birth (e.g. march, july etc): april\n",
      "Your zodiac sign is : Aries\n",
      "Type end to stop or any character to continue.end\n",
      "╒═══════╤════════════════════╤════════════╤═══════╤══════════════════╕\n",
      "│   Uid │ Name               │ D.O.B      │   Age │ Western zodiac   │\n",
      "╞═══════╪════════════════════╪════════════╪═══════╪══════════════════╡\n",
      "│    10 │ Angella            │ 1678-09-23 │   343 │ libra            │\n",
      "├───────┼────────────────────┼────────────┼───────┼──────────────────┤\n",
      "│    09 │ Angella Mulikatete │ 500-04-10  │  1522 │ Aries            │\n",
      "╘═══════╧════════════════════╧════════════╧═══════╧══════════════════╛\n"
     ]
    }
   ],
   "source": [
    "table = [['Uid', 'Name', 'D.O.B','Age', 'Western zodiac']]\n",
    "\n",
    "def cal_age(year,month,day):\n",
    "    today = datetime.date.today()\n",
    "    dob = datetime.date(year,month,day)\n",
    "    age = int((today - dob).days/365)\n",
    "    return age\n",
    "\n",
    "while(1):\n",
    "    list =[]\n",
    "    uid = input('Enter your 2-digit id: ')\n",
    "    name = input(\"Enter your name: \")\n",
    "    \n",
    "    user_dob = input(\"Enter your dob in this format 'year-month-day': \")\n",
    "    dob= user_dob.split('-')\n",
    "    year,month,day = int(dob[0]), int(dob[1]), int(dob[2])\n",
    "    age =cal_age(year,month,day)\n",
    "    print(f\"You are {age} years old.\")\n",
    "    day = int(input(\"Input birthday: \"))\n",
    "    month = input(\"Input month of birth (e.g. march, july etc): \")\n",
    "    if month == 'december':\n",
    "        sign = 'Sagittarius' if (day < 22) else 'capricorn'\n",
    "    elif month == 'january':\n",
    "        sign = 'Capricorn' if (day < 20) else 'aquarius'\n",
    "    elif month == 'february':\n",
    "        sign = 'Aquarius' if (day < 19) else 'pisces'\n",
    "    elif month == 'march':\n",
    "        sign = 'Pisces' if (day < 21) else 'aries'\n",
    "    elif month == 'april':\n",
    "        sign = 'Aries' if (day < 20) else 'taurus'\n",
    "    elif month == 'may':\n",
    "        sign = 'Taurus' if (day < 21) else 'gemini'\n",
    "    elif month == 'june':\n",
    "        sign = 'Gemini' if (day < 21) else 'cancer'\n",
    "    elif month == 'july':\n",
    "        sign = 'Cancer' if (day < 23) else 'leo'\n",
    "    elif month == 'august':\n",
    "        sign = 'Leo' if (day < 23) else 'virgo'\n",
    "    elif month == 'september':\n",
    "        sign = 'Virgo' if (day < 23) else 'libra'\n",
    "    elif month == 'october':\n",
    "        sign = 'Libra' if (day < 23) else 'scorpio'\n",
    "    elif month == 'november':\n",
    "        sign = 'scorpio' if (day < 22) else 'sagittarius'\n",
    "    print(\"Your zodiac sign is :\",sign)\n",
    "    \n",
    "    list.append(uid,)\n",
    "    list.append(name,)\n",
    "    list.append(user_dob,)\n",
    "    list.append(age,)\n",
    "    list.append(sign,)\n",
    "    table.append(list)\n",
    "    \n",
    "    end = input('Type end to stop or any character to continue.')\n",
    "    if end == \"end\":\n",
    "        print(tabulate(table, headers='firstrow', tablefmt='fancy_grid'))\n",
    "        break"
   ]
  },
  {
   "cell_type": "code",
   "execution_count": null,
   "id": "b2a020f9",
   "metadata": {},
   "outputs": [],
   "source": []
  },
  {
   "cell_type": "code",
   "execution_count": null,
   "id": "9bc902e7",
   "metadata": {},
   "outputs": [],
   "source": []
  },
  {
   "cell_type": "code",
   "execution_count": null,
   "id": "c5e42be5",
   "metadata": {},
   "outputs": [],
   "source": []
  },
  {
   "cell_type": "code",
   "execution_count": null,
   "id": "e2c13da2",
   "metadata": {},
   "outputs": [],
   "source": []
  },
  {
   "cell_type": "code",
   "execution_count": null,
   "id": "39fe4004",
   "metadata": {},
   "outputs": [],
   "source": []
  },
  {
   "cell_type": "code",
   "execution_count": null,
   "id": "68f3b79d",
   "metadata": {},
   "outputs": [],
   "source": []
  }
 ],
 "metadata": {
  "kernelspec": {
   "display_name": "Python 3 (ipykernel)",
   "language": "python",
   "name": "python3"
  },
  "language_info": {
   "codemirror_mode": {
    "name": "ipython",
    "version": 3
   },
   "file_extension": ".py",
   "mimetype": "text/x-python",
   "name": "python",
   "nbconvert_exporter": "python",
   "pygments_lexer": "ipython3",
   "version": "3.9.7"
  }
 },
 "nbformat": 4,
 "nbformat_minor": 5
}
